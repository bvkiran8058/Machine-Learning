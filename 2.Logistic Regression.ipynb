{
 "cells": [
  {
   "cell_type": "code",
   "execution_count": 1,
   "metadata": {},
   "outputs": [],
   "source": [
    "import pandas as pd\n",
    "import numpy as np\n",
    "import seaborn as sns\n",
    "import matplotlib.pyplot as plt"
   ]
  },
  {
   "cell_type": "code",
   "execution_count": 2,
   "metadata": {},
   "outputs": [
    {
     "data": {
      "text/html": [
       "<div>\n",
       "<style scoped>\n",
       "    .dataframe tbody tr th:only-of-type {\n",
       "        vertical-align: middle;\n",
       "    }\n",
       "\n",
       "    .dataframe tbody tr th {\n",
       "        vertical-align: top;\n",
       "    }\n",
       "\n",
       "    .dataframe thead th {\n",
       "        text-align: right;\n",
       "    }\n",
       "</style>\n",
       "<table border=\"1\" class=\"dataframe\">\n",
       "  <thead>\n",
       "    <tr style=\"text-align: right;\">\n",
       "      <th></th>\n",
       "      <th>Age</th>\n",
       "      <th>Gender</th>\n",
       "      <th>Income (in $1000s)</th>\n",
       "      <th>Online Hours Per Week</th>\n",
       "      <th>Purchase Frequency (Last Month)</th>\n",
       "      <th>Is Loyal Customer</th>\n",
       "      <th>Preferred Shopping Platform</th>\n",
       "      <th>Ad Clicks (Last Month)</th>\n",
       "      <th>Discounts Used (Last Month)</th>\n",
       "      <th>Competitor Pricing Index</th>\n",
       "      <th>Economic Conditions</th>\n",
       "      <th>Distance to Nearest Store (km)</th>\n",
       "      <th>Shopping Frequency</th>\n",
       "      <th>Purchase Decision (1=Yes, 0=No)</th>\n",
       "    </tr>\n",
       "  </thead>\n",
       "  <tbody>\n",
       "    <tr>\n",
       "      <th>0</th>\n",
       "      <td>56</td>\n",
       "      <td>Female</td>\n",
       "      <td>91.97</td>\n",
       "      <td>49</td>\n",
       "      <td>7</td>\n",
       "      <td>0</td>\n",
       "      <td>Website</td>\n",
       "      <td>1</td>\n",
       "      <td>9</td>\n",
       "      <td>0.83</td>\n",
       "      <td>Neutral</td>\n",
       "      <td>43.09</td>\n",
       "      <td>1.685360</td>\n",
       "      <td>1</td>\n",
       "    </tr>\n",
       "    <tr>\n",
       "      <th>1</th>\n",
       "      <td>69</td>\n",
       "      <td>Male</td>\n",
       "      <td>22.29</td>\n",
       "      <td>1</td>\n",
       "      <td>2</td>\n",
       "      <td>1</td>\n",
       "      <td>Website</td>\n",
       "      <td>9</td>\n",
       "      <td>3</td>\n",
       "      <td>1.13</td>\n",
       "      <td>Neutral</td>\n",
       "      <td>16.78</td>\n",
       "      <td>15.337143</td>\n",
       "      <td>1</td>\n",
       "    </tr>\n",
       "    <tr>\n",
       "      <th>2</th>\n",
       "      <td>46</td>\n",
       "      <td>Female</td>\n",
       "      <td>50.59</td>\n",
       "      <td>3</td>\n",
       "      <td>7</td>\n",
       "      <td>0</td>\n",
       "      <td>Website</td>\n",
       "      <td>0</td>\n",
       "      <td>2</td>\n",
       "      <td>1.06</td>\n",
       "      <td>Favorable</td>\n",
       "      <td>9.80</td>\n",
       "      <td>17.530050</td>\n",
       "      <td>1</td>\n",
       "    </tr>\n",
       "    <tr>\n",
       "      <th>3</th>\n",
       "      <td>32</td>\n",
       "      <td>Male</td>\n",
       "      <td>58.63</td>\n",
       "      <td>49</td>\n",
       "      <td>14</td>\n",
       "      <td>1</td>\n",
       "      <td>In-store</td>\n",
       "      <td>0</td>\n",
       "      <td>8</td>\n",
       "      <td>0.94</td>\n",
       "      <td>Neutral</td>\n",
       "      <td>2.78</td>\n",
       "      <td>28.540342</td>\n",
       "      <td>1</td>\n",
       "    </tr>\n",
       "    <tr>\n",
       "      <th>4</th>\n",
       "      <td>60</td>\n",
       "      <td>Female</td>\n",
       "      <td>44.87</td>\n",
       "      <td>27</td>\n",
       "      <td>0</td>\n",
       "      <td>0</td>\n",
       "      <td>Mobile App</td>\n",
       "      <td>7</td>\n",
       "      <td>9</td>\n",
       "      <td>0.87</td>\n",
       "      <td>Unfavorable</td>\n",
       "      <td>49.22</td>\n",
       "      <td>1.000000</td>\n",
       "      <td>1</td>\n",
       "    </tr>\n",
       "  </tbody>\n",
       "</table>\n",
       "</div>"
      ],
      "text/plain": [
       "   Age  Gender  Income (in $1000s)  Online Hours Per Week  \\\n",
       "0   56  Female               91.97                     49   \n",
       "1   69    Male               22.29                      1   \n",
       "2   46  Female               50.59                      3   \n",
       "3   32    Male               58.63                     49   \n",
       "4   60  Female               44.87                     27   \n",
       "\n",
       "   Purchase Frequency (Last Month)  Is Loyal Customer  \\\n",
       "0                                7                  0   \n",
       "1                                2                  1   \n",
       "2                                7                  0   \n",
       "3                               14                  1   \n",
       "4                                0                  0   \n",
       "\n",
       "  Preferred Shopping Platform  Ad Clicks (Last Month)  \\\n",
       "0                     Website                       1   \n",
       "1                     Website                       9   \n",
       "2                     Website                       0   \n",
       "3                    In-store                       0   \n",
       "4                  Mobile App                       7   \n",
       "\n",
       "   Discounts Used (Last Month)  Competitor Pricing Index Economic Conditions  \\\n",
       "0                            9                      0.83             Neutral   \n",
       "1                            3                      1.13             Neutral   \n",
       "2                            2                      1.06           Favorable   \n",
       "3                            8                      0.94             Neutral   \n",
       "4                            9                      0.87         Unfavorable   \n",
       "\n",
       "   Distance to Nearest Store (km)  Shopping Frequency  \\\n",
       "0                           43.09            1.685360   \n",
       "1                           16.78           15.337143   \n",
       "2                            9.80           17.530050   \n",
       "3                            2.78           28.540342   \n",
       "4                           49.22            1.000000   \n",
       "\n",
       "   Purchase Decision (1=Yes, 0=No)  \n",
       "0                                1  \n",
       "1                                1  \n",
       "2                                1  \n",
       "3                                1  \n",
       "4                                1  "
      ]
     },
     "execution_count": 2,
     "metadata": {},
     "output_type": "execute_result"
    }
   ],
   "source": [
    "dataset = pd.read_csv('Datasets/customer_behavior_dataset.csv')\n",
    "dataset.head()"
   ]
  },
  {
   "cell_type": "code",
   "execution_count": 3,
   "metadata": {},
   "outputs": [
    {
     "name": "stdout",
     "output_type": "stream",
     "text": [
      "<class 'pandas.core.frame.DataFrame'>\n",
      "RangeIndex: 5000 entries, 0 to 4999\n",
      "Data columns (total 14 columns):\n",
      " #   Column                           Non-Null Count  Dtype  \n",
      "---  ------                           --------------  -----  \n",
      " 0   Age                              5000 non-null   int64  \n",
      " 1   Gender                           5000 non-null   object \n",
      " 2   Income (in $1000s)               4800 non-null   float64\n",
      " 3   Online Hours Per Week            5000 non-null   int64  \n",
      " 4   Purchase Frequency (Last Month)  5000 non-null   int64  \n",
      " 5   Is Loyal Customer                5000 non-null   int64  \n",
      " 6   Preferred Shopping Platform      5000 non-null   object \n",
      " 7   Ad Clicks (Last Month)           5000 non-null   int64  \n",
      " 8   Discounts Used (Last Month)      5000 non-null   int64  \n",
      " 9   Competitor Pricing Index         5000 non-null   float64\n",
      " 10  Economic Conditions              4850 non-null   object \n",
      " 11  Distance to Nearest Store (km)   5000 non-null   float64\n",
      " 12  Shopping Frequency               5000 non-null   float64\n",
      " 13  Purchase Decision (1=Yes, 0=No)  5000 non-null   int64  \n",
      "dtypes: float64(4), int64(7), object(3)\n",
      "memory usage: 547.0+ KB\n"
     ]
    }
   ],
   "source": [
    "dataset.info()"
   ]
  },
  {
   "cell_type": "code",
   "execution_count": 4,
   "metadata": {},
   "outputs": [
    {
     "data": {
      "text/plain": [
       "(4660, 14)"
      ]
     },
     "execution_count": 4,
     "metadata": {},
     "output_type": "execute_result"
    }
   ],
   "source": [
    "# Since missing values are low dropping is best opion\n",
    "dataset = dataset.dropna()\n",
    "dataset.shape"
   ]
  },
  {
   "cell_type": "code",
   "execution_count": 5,
   "metadata": {},
   "outputs": [
    {
     "name": "stdout",
     "output_type": "stream",
     "text": [
      "Gender: ['Female' 'Male']\n",
      "Preferred Shopping Platform: ['Website' 'In-store' 'Mobile App']\n",
      "Economic Conditions: ['Neutral' 'Favorable' 'Unfavorable']\n"
     ]
    }
   ],
   "source": [
    "categorical_features = ['Gender','Preferred Shopping Platform', 'Economic Conditions']\n",
    "for f in categorical_features:\n",
    "    print(f'{f}: {dataset[f].unique()}')"
   ]
  },
  {
   "cell_type": "code",
   "execution_count": 7,
   "metadata": {},
   "outputs": [],
   "source": [
    "from sklearn.preprocessing import LabelEncoder, OneHotEncoder\n",
    "ohe = OneHotEncoder(sparse_output=False)\n",
    "one_hot_encoded = ohe.fit_transform(dataset[['Gender']])\n",
    "ohe_hot_encoded_df = pd.DataFrame(one_hot_encoded, columns=ohe.get_feature_names_out(['Gender']))\n",
    "le = LabelEncoder()\n",
    "encoded_dataset1 = dataset.copy()\n",
    "for f in categorical_features:\n",
    "    if f != 'Gender':  \n",
    "        encoded_dataset1[f] = le.fit_transform(encoded_dataset1[f])\n",
    "\n",
    "encoded_dataset = pd.concat(\n",
    "    [encoded_dataset1.drop(columns=['Gender'], axis=1).reset_index(drop=True), ohe_hot_encoded_df.reset_index(drop=True)], axis=1)"
   ]
  },
  {
   "cell_type": "code",
   "execution_count": 9,
   "metadata": {},
   "outputs": [
    {
     "data": {
      "text/plain": [
       "(array([[56.        , 91.97      , 49.        , ...,  1.68536028,\n",
       "          1.        ,  0.        ],\n",
       "        [69.        , 22.29      ,  1.        , ..., 15.33714311,\n",
       "          0.        ,  1.        ],\n",
       "        [46.        , 50.59      ,  3.        , ..., 17.53005006,\n",
       "          1.        ,  0.        ],\n",
       "        ...,\n",
       "        [26.        , 53.61      ,  9.        , ...,  1.        ,\n",
       "          0.        ,  1.        ],\n",
       "        [53.        , 42.04      ,  5.        , ..., 16.73424535,\n",
       "          1.        ,  0.        ],\n",
       "        [36.        , 55.16      ,  6.        , ..., 11.57171689,\n",
       "          1.        ,  0.        ]], shape=(4660, 14)),\n",
       " array([1, 1, 1, ..., 1, 1, 1], shape=(4660,)))"
      ]
     },
     "execution_count": 9,
     "metadata": {},
     "output_type": "execute_result"
    }
   ],
   "source": [
    "X, y = encoded_dataset.drop(columns=['Purchase Decision (1=Yes, 0=No)'], axis=1).values, encoded_dataset['Purchase Decision (1=Yes, 0=No)'].values\n",
    "X, y"
   ]
  },
  {
   "cell_type": "code",
   "execution_count": 10,
   "metadata": {},
   "outputs": [
    {
     "data": {
      "text/plain": [
       "(array([[-0.37682941,  1.2497109 , -0.99712663, ...,  1.77213258,\n",
       "         -0.99145283,  0.99145283],\n",
       "        [ 0.75095395,  0.50765692, -0.92815366, ...,  1.80100262,\n",
       "          1.00862085, -1.00862085],\n",
       "        [ 1.34801573, -0.42815006,  0.17541377, ...,  0.55682696,\n",
       "         -0.99145283,  0.99145283],\n",
       "        ...,\n",
       "        [-0.31048921,  0.4192696 , -0.03150512, ...,  1.31166512,\n",
       "         -0.99145283,  0.99145283],\n",
       "        [ 0.35291277,  0.18756499,  1.55487306, ...,  1.64263582,\n",
       "          1.00862085, -1.00862085],\n",
       "        [-1.04023138,  0.42725941,  0.45130563, ...,  0.78783563,\n",
       "         -0.99145283,  0.99145283]], shape=(3262, 14)),\n",
       " array([[ 1.14899514, -0.77570697,  0.45130563, ...,  1.54416   ,\n",
       "         -0.99145283,  0.99145283],\n",
       "        [ 0.35291277,  0.90964444,  0.79617045, ..., -1.56080825,\n",
       "          1.00862085, -1.00862085],\n",
       "        [ 0.81729415,  0.11915221, -1.06609959, ...,  0.14621527,\n",
       "         -0.99145283,  0.99145283],\n",
       "        ...,\n",
       "        [ 1.28167553,  0.68592964,  1.34795416, ..., -1.31539714,\n",
       "         -0.99145283,  0.99145283],\n",
       "        [-0.31048921, -0.46160741, -0.10047809, ...,  0.41711369,\n",
       "         -0.99145283,  0.99145283],\n",
       "        [-0.37682941, -0.82514395,  1.41692713, ..., -1.54650861,\n",
       "          1.00862085, -1.00862085]], shape=(1398, 14)),\n",
       " array([1, 1, 1, ..., 1, 1, 1], shape=(3262,)),\n",
       " array([1, 1, 1, ..., 1, 1, 1], shape=(1398,)))"
      ]
     },
     "execution_count": 10,
     "metadata": {},
     "output_type": "execute_result"
    }
   ],
   "source": [
    "from sklearn.preprocessing import StandardScaler\n",
    "from sklearn.model_selection import train_test_split\n",
    "X_train, X_test, y_train, y_test = train_test_split(X, y, test_size=0.3, random_state=42)\n",
    "scaler = StandardScaler()\n",
    "X_train_scaled, X_test_scaled = scaler.fit_transform(X_train), scaler.transform(X_test)\n",
    "X_train_scaled, X_test_scaled, y_train, y_test"
   ]
  },
  {
   "cell_type": "code",
   "execution_count": 11,
   "metadata": {},
   "outputs": [
    {
     "name": "stdout",
     "output_type": "stream",
     "text": [
      "accuracy: 0.9907010014306151\n",
      "              precision    recall  f1-score   support\n",
      "\n",
      "           0       0.00      0.00      0.00         0\n",
      "           1       1.00      0.99      1.00      1398\n",
      "\n",
      "    accuracy                           0.99      1398\n",
      "   macro avg       0.50      0.50      0.50      1398\n",
      "weighted avg       1.00      0.99      1.00      1398\n",
      "\n",
      "[[   0    0]\n",
      " [  13 1385]]\n"
     ]
    },
    {
     "name": "stderr",
     "output_type": "stream",
     "text": [
      "c:\\Users\\bvkir\\OneDrive\\Desktop\\Machine learning\\mlenv\\Lib\\site-packages\\sklearn\\metrics\\_classification.py:1565: UndefinedMetricWarning: Recall is ill-defined and being set to 0.0 in labels with no true samples. Use `zero_division` parameter to control this behavior.\n",
      "  _warn_prf(average, modifier, f\"{metric.capitalize()} is\", len(result))\n",
      "c:\\Users\\bvkir\\OneDrive\\Desktop\\Machine learning\\mlenv\\Lib\\site-packages\\sklearn\\metrics\\_classification.py:1565: UndefinedMetricWarning: Recall is ill-defined and being set to 0.0 in labels with no true samples. Use `zero_division` parameter to control this behavior.\n",
      "  _warn_prf(average, modifier, f\"{metric.capitalize()} is\", len(result))\n",
      "c:\\Users\\bvkir\\OneDrive\\Desktop\\Machine learning\\mlenv\\Lib\\site-packages\\sklearn\\metrics\\_classification.py:1565: UndefinedMetricWarning: Recall is ill-defined and being set to 0.0 in labels with no true samples. Use `zero_division` parameter to control this behavior.\n",
      "  _warn_prf(average, modifier, f\"{metric.capitalize()} is\", len(result))\n"
     ]
    }
   ],
   "source": [
    "from sklearn.linear_model import LogisticRegression\n",
    "from sklearn.metrics import accuracy_score,classification_report,confusion_matrix\n",
    "logiregressor = LogisticRegression()\n",
    "logiregressor.fit(X_train_scaled, y_train)\n",
    "y_pred=logiregressor.predict(X_test)\n",
    "print(f'accuracy: {accuracy_score(y_pred,y_test)}')\n",
    "print(classification_report(y_pred,y_test))\n",
    "print(confusion_matrix(y_pred,y_test))"
   ]
  },
  {
   "cell_type": "markdown",
   "metadata": {},
   "source": [
    "# Lets try without dropping NAN values instead adding mode or mean"
   ]
  },
  {
   "cell_type": "code",
   "execution_count": 12,
   "metadata": {},
   "outputs": [
    {
     "data": {
      "text/html": [
       "<div>\n",
       "<style scoped>\n",
       "    .dataframe tbody tr th:only-of-type {\n",
       "        vertical-align: middle;\n",
       "    }\n",
       "\n",
       "    .dataframe tbody tr th {\n",
       "        vertical-align: top;\n",
       "    }\n",
       "\n",
       "    .dataframe thead th {\n",
       "        text-align: right;\n",
       "    }\n",
       "</style>\n",
       "<table border=\"1\" class=\"dataframe\">\n",
       "  <thead>\n",
       "    <tr style=\"text-align: right;\">\n",
       "      <th></th>\n",
       "      <th>Age</th>\n",
       "      <th>Gender</th>\n",
       "      <th>Income (in $1000s)</th>\n",
       "      <th>Online Hours Per Week</th>\n",
       "      <th>Purchase Frequency (Last Month)</th>\n",
       "      <th>Is Loyal Customer</th>\n",
       "      <th>Preferred Shopping Platform</th>\n",
       "      <th>Ad Clicks (Last Month)</th>\n",
       "      <th>Discounts Used (Last Month)</th>\n",
       "      <th>Competitor Pricing Index</th>\n",
       "      <th>Economic Conditions</th>\n",
       "      <th>Distance to Nearest Store (km)</th>\n",
       "      <th>Shopping Frequency</th>\n",
       "      <th>Purchase Decision (1=Yes, 0=No)</th>\n",
       "    </tr>\n",
       "  </thead>\n",
       "  <tbody>\n",
       "    <tr>\n",
       "      <th>0</th>\n",
       "      <td>56</td>\n",
       "      <td>Female</td>\n",
       "      <td>91.97</td>\n",
       "      <td>49</td>\n",
       "      <td>7</td>\n",
       "      <td>0</td>\n",
       "      <td>Website</td>\n",
       "      <td>1</td>\n",
       "      <td>9</td>\n",
       "      <td>0.83</td>\n",
       "      <td>Neutral</td>\n",
       "      <td>43.09</td>\n",
       "      <td>1.685360</td>\n",
       "      <td>1</td>\n",
       "    </tr>\n",
       "    <tr>\n",
       "      <th>1</th>\n",
       "      <td>69</td>\n",
       "      <td>Male</td>\n",
       "      <td>22.29</td>\n",
       "      <td>1</td>\n",
       "      <td>2</td>\n",
       "      <td>1</td>\n",
       "      <td>Website</td>\n",
       "      <td>9</td>\n",
       "      <td>3</td>\n",
       "      <td>1.13</td>\n",
       "      <td>Neutral</td>\n",
       "      <td>16.78</td>\n",
       "      <td>15.337143</td>\n",
       "      <td>1</td>\n",
       "    </tr>\n",
       "    <tr>\n",
       "      <th>2</th>\n",
       "      <td>46</td>\n",
       "      <td>Female</td>\n",
       "      <td>50.59</td>\n",
       "      <td>3</td>\n",
       "      <td>7</td>\n",
       "      <td>0</td>\n",
       "      <td>Website</td>\n",
       "      <td>0</td>\n",
       "      <td>2</td>\n",
       "      <td>1.06</td>\n",
       "      <td>Favorable</td>\n",
       "      <td>9.80</td>\n",
       "      <td>17.530050</td>\n",
       "      <td>1</td>\n",
       "    </tr>\n",
       "    <tr>\n",
       "      <th>3</th>\n",
       "      <td>32</td>\n",
       "      <td>Male</td>\n",
       "      <td>58.63</td>\n",
       "      <td>49</td>\n",
       "      <td>14</td>\n",
       "      <td>1</td>\n",
       "      <td>In-store</td>\n",
       "      <td>0</td>\n",
       "      <td>8</td>\n",
       "      <td>0.94</td>\n",
       "      <td>Neutral</td>\n",
       "      <td>2.78</td>\n",
       "      <td>28.540342</td>\n",
       "      <td>1</td>\n",
       "    </tr>\n",
       "    <tr>\n",
       "      <th>4</th>\n",
       "      <td>60</td>\n",
       "      <td>Female</td>\n",
       "      <td>44.87</td>\n",
       "      <td>27</td>\n",
       "      <td>0</td>\n",
       "      <td>0</td>\n",
       "      <td>Mobile App</td>\n",
       "      <td>7</td>\n",
       "      <td>9</td>\n",
       "      <td>0.87</td>\n",
       "      <td>Unfavorable</td>\n",
       "      <td>49.22</td>\n",
       "      <td>1.000000</td>\n",
       "      <td>1</td>\n",
       "    </tr>\n",
       "  </tbody>\n",
       "</table>\n",
       "</div>"
      ],
      "text/plain": [
       "   Age  Gender  Income (in $1000s)  Online Hours Per Week  \\\n",
       "0   56  Female               91.97                     49   \n",
       "1   69    Male               22.29                      1   \n",
       "2   46  Female               50.59                      3   \n",
       "3   32    Male               58.63                     49   \n",
       "4   60  Female               44.87                     27   \n",
       "\n",
       "   Purchase Frequency (Last Month)  Is Loyal Customer  \\\n",
       "0                                7                  0   \n",
       "1                                2                  1   \n",
       "2                                7                  0   \n",
       "3                               14                  1   \n",
       "4                                0                  0   \n",
       "\n",
       "  Preferred Shopping Platform  Ad Clicks (Last Month)  \\\n",
       "0                     Website                       1   \n",
       "1                     Website                       9   \n",
       "2                     Website                       0   \n",
       "3                    In-store                       0   \n",
       "4                  Mobile App                       7   \n",
       "\n",
       "   Discounts Used (Last Month)  Competitor Pricing Index Economic Conditions  \\\n",
       "0                            9                      0.83             Neutral   \n",
       "1                            3                      1.13             Neutral   \n",
       "2                            2                      1.06           Favorable   \n",
       "3                            8                      0.94             Neutral   \n",
       "4                            9                      0.87         Unfavorable   \n",
       "\n",
       "   Distance to Nearest Store (km)  Shopping Frequency  \\\n",
       "0                           43.09            1.685360   \n",
       "1                           16.78           15.337143   \n",
       "2                            9.80           17.530050   \n",
       "3                            2.78           28.540342   \n",
       "4                           49.22            1.000000   \n",
       "\n",
       "   Purchase Decision (1=Yes, 0=No)  \n",
       "0                                1  \n",
       "1                                1  \n",
       "2                                1  \n",
       "3                                1  \n",
       "4                                1  "
      ]
     },
     "execution_count": 12,
     "metadata": {},
     "output_type": "execute_result"
    }
   ],
   "source": [
    "dataset = pd.read_csv('Datasets/customer_behavior_dataset.csv')\n",
    "dataset.head()"
   ]
  },
  {
   "cell_type": "code",
   "execution_count": 15,
   "metadata": {},
   "outputs": [
    {
     "name": "stdout",
     "output_type": "stream",
     "text": [
      "<class 'pandas.core.frame.DataFrame'>\n",
      "RangeIndex: 5000 entries, 0 to 4999\n",
      "Data columns (total 14 columns):\n",
      " #   Column                           Non-Null Count  Dtype  \n",
      "---  ------                           --------------  -----  \n",
      " 0   Age                              5000 non-null   int64  \n",
      " 1   Gender                           5000 non-null   object \n",
      " 2   Income (in $1000s)               4800 non-null   float64\n",
      " 3   Online Hours Per Week            5000 non-null   int64  \n",
      " 4   Purchase Frequency (Last Month)  5000 non-null   int64  \n",
      " 5   Is Loyal Customer                5000 non-null   int64  \n",
      " 6   Preferred Shopping Platform      5000 non-null   object \n",
      " 7   Ad Clicks (Last Month)           5000 non-null   int64  \n",
      " 8   Discounts Used (Last Month)      5000 non-null   int64  \n",
      " 9   Competitor Pricing Index         5000 non-null   float64\n",
      " 10  Economic Conditions              4850 non-null   object \n",
      " 11  Distance to Nearest Store (km)   5000 non-null   float64\n",
      " 12  Shopping Frequency               5000 non-null   float64\n",
      " 13  Purchase Decision (1=Yes, 0=No)  5000 non-null   int64  \n",
      "dtypes: float64(4), int64(7), object(3)\n",
      "memory usage: 547.0+ KB\n"
     ]
    }
   ],
   "source": [
    "dataset.info()"
   ]
  },
  {
   "cell_type": "code",
   "execution_count": 16,
   "metadata": {},
   "outputs": [
    {
     "name": "stdout",
     "output_type": "stream",
     "text": [
      "<class 'pandas.core.frame.DataFrame'>\n",
      "RangeIndex: 5000 entries, 0 to 4999\n",
      "Data columns (total 14 columns):\n",
      " #   Column                           Non-Null Count  Dtype  \n",
      "---  ------                           --------------  -----  \n",
      " 0   Age                              5000 non-null   int64  \n",
      " 1   Gender                           5000 non-null   object \n",
      " 2   Income (in $1000s)               5000 non-null   float64\n",
      " 3   Online Hours Per Week            5000 non-null   int64  \n",
      " 4   Purchase Frequency (Last Month)  5000 non-null   int64  \n",
      " 5   Is Loyal Customer                5000 non-null   int64  \n",
      " 6   Preferred Shopping Platform      5000 non-null   object \n",
      " 7   Ad Clicks (Last Month)           5000 non-null   int64  \n",
      " 8   Discounts Used (Last Month)      5000 non-null   int64  \n",
      " 9   Competitor Pricing Index         5000 non-null   float64\n",
      " 10  Economic Conditions              5000 non-null   object \n",
      " 11  Distance to Nearest Store (km)   5000 non-null   float64\n",
      " 12  Shopping Frequency               5000 non-null   float64\n",
      " 13  Purchase Decision (1=Yes, 0=No)  5000 non-null   int64  \n",
      "dtypes: float64(4), int64(7), object(3)\n",
      "memory usage: 547.0+ KB\n"
     ]
    }
   ],
   "source": [
    "dataset['Income (in $1000s)'] = dataset['Income (in $1000s)'].fillna(dataset['Income (in $1000s)'].mean())\n",
    "dataset['Economic Conditions'] = dataset['Economic Conditions'].fillna(dataset['Economic Conditions'].mode()[0])\n",
    "dataset.info()"
   ]
  },
  {
   "cell_type": "code",
   "execution_count": 17,
   "metadata": {},
   "outputs": [],
   "source": [
    "from sklearn.preprocessing import LabelEncoder, OneHotEncoder\n",
    "ohe = OneHotEncoder(sparse_output=False)\n",
    "one_hot_encoded = ohe.fit_transform(dataset[['Gender']])\n",
    "ohe_hot_encoded_df = pd.DataFrame(one_hot_encoded, columns=ohe.get_feature_names_out(['Gender']))\n",
    "le = LabelEncoder()\n",
    "encoded_dataset1 = dataset.copy()\n",
    "for f in categorical_features:\n",
    "    if f != 'Gender':  \n",
    "        encoded_dataset1[f] = le.fit_transform(encoded_dataset1[f])\n",
    "\n",
    "encoded_dataset = pd.concat(\n",
    "    [encoded_dataset1.drop(columns=['Gender'], axis=1).reset_index(drop=True), ohe_hot_encoded_df.reset_index(drop=True)], axis=1)"
   ]
  },
  {
   "cell_type": "code",
   "execution_count": 18,
   "metadata": {},
   "outputs": [
    {
     "name": "stdout",
     "output_type": "stream",
     "text": [
      "<class 'pandas.core.frame.DataFrame'>\n",
      "RangeIndex: 5000 entries, 0 to 4999\n",
      "Data columns (total 15 columns):\n",
      " #   Column                           Non-Null Count  Dtype  \n",
      "---  ------                           --------------  -----  \n",
      " 0   Age                              5000 non-null   int64  \n",
      " 1   Income (in $1000s)               5000 non-null   float64\n",
      " 2   Online Hours Per Week            5000 non-null   int64  \n",
      " 3   Purchase Frequency (Last Month)  5000 non-null   int64  \n",
      " 4   Is Loyal Customer                5000 non-null   int64  \n",
      " 5   Preferred Shopping Platform      5000 non-null   int64  \n",
      " 6   Ad Clicks (Last Month)           5000 non-null   int64  \n",
      " 7   Discounts Used (Last Month)      5000 non-null   int64  \n",
      " 8   Competitor Pricing Index         5000 non-null   float64\n",
      " 9   Economic Conditions              5000 non-null   int64  \n",
      " 10  Distance to Nearest Store (km)   5000 non-null   float64\n",
      " 11  Shopping Frequency               5000 non-null   float64\n",
      " 12  Purchase Decision (1=Yes, 0=No)  5000 non-null   int64  \n",
      " 13  Gender_Female                    5000 non-null   float64\n",
      " 14  Gender_Male                      5000 non-null   float64\n",
      "dtypes: float64(6), int64(9)\n",
      "memory usage: 586.1 KB\n"
     ]
    }
   ],
   "source": [
    "encoded_dataset.info()"
   ]
  },
  {
   "cell_type": "code",
   "execution_count": 19,
   "metadata": {},
   "outputs": [
    {
     "data": {
      "text/plain": [
       "(array([[56.        , 91.97      , 49.        , ...,  1.68536028,\n",
       "          1.        ,  0.        ],\n",
       "        [69.        , 22.29      ,  1.        , ..., 15.33714311,\n",
       "          0.        ,  1.        ],\n",
       "        [46.        , 50.59      ,  3.        , ..., 17.53005006,\n",
       "          1.        ,  0.        ],\n",
       "        ...,\n",
       "        [26.        , 53.61      ,  9.        , ...,  1.        ,\n",
       "          0.        ,  1.        ],\n",
       "        [53.        , 42.04      ,  5.        , ..., 16.73424535,\n",
       "          1.        ,  0.        ],\n",
       "        [36.        , 55.16      ,  6.        , ..., 11.57171689,\n",
       "          1.        ,  0.        ]], shape=(5000, 14)),\n",
       " array([1, 1, 1, ..., 1, 1, 1], shape=(5000,)))"
      ]
     },
     "execution_count": 19,
     "metadata": {},
     "output_type": "execute_result"
    }
   ],
   "source": [
    "X, y = encoded_dataset.drop(columns=['Purchase Decision (1=Yes, 0=No)'], axis=1).values, encoded_dataset['Purchase Decision (1=Yes, 0=No)'].values\n",
    "X, y"
   ]
  },
  {
   "cell_type": "code",
   "execution_count": 20,
   "metadata": {},
   "outputs": [
    {
     "data": {
      "text/plain": [
       "(array([[-0.91132783, -0.69066401, -0.97738846, ...,  0.62440367,\n",
       "         -0.96628239,  0.96628239],\n",
       "        [-0.84481864,  1.23577697, -0.42499096, ..., -0.96644206,\n",
       "          1.03489416, -1.03489416],\n",
       "        [-1.31038292, -0.84827728,  1.57744997, ..., -0.31426032,\n",
       "          1.03489416, -1.03489416],\n",
       "        ...,\n",
       "        [ 0.48536501, -1.59312712, -0.90833877, ...,  0.34414191,\n",
       "          1.03489416, -1.03489416],\n",
       "        [-1.64292884,  2.03757095,  0.61075435, ..., -1.38317761,\n",
       "         -0.96628239,  0.96628239],\n",
       "        [ 0.48536501, -1.79599066, -0.07974252, ..., -1.10516458,\n",
       "          1.03489416, -1.03489416]], shape=(3500, 14)),\n",
       " array([[ 1.01743848,  0.53160153, -0.14879221, ...,  1.44056795,\n",
       "          1.03489416, -1.03489416],\n",
       "        [-1.24387374, -1.56109603,  1.50840028, ...,  0.55237516,\n",
       "         -0.96628239,  0.96628239],\n",
       "        [-0.37925436, -0.03173883, -1.66788533, ...,  0.988138  ,\n",
       "         -0.96628239,  0.96628239],\n",
       "        ...,\n",
       "        [ 0.41885583,  1.4503344 , -0.63214002, ..., -0.98827631,\n",
       "          1.03489416, -1.03489416],\n",
       "        [-0.17972681,  0.34348246, -1.32263689, ...,  0.71589411,\n",
       "         -0.96628239,  0.96628239],\n",
       "        [-0.31274518, -1.54228412, -1.04643814, ...,  1.47912978,\n",
       "         -0.96628239,  0.96628239]], shape=(1500, 14)),\n",
       " array([1, 1, 1, ..., 1, 1, 1], shape=(3500,)),\n",
       " array([1, 1, 1, ..., 1, 1, 1], shape=(1500,)))"
      ]
     },
     "execution_count": 20,
     "metadata": {},
     "output_type": "execute_result"
    }
   ],
   "source": [
    "from sklearn.preprocessing import StandardScaler\n",
    "from sklearn.model_selection import train_test_split\n",
    "X_train, X_test, y_train, y_test = train_test_split(X, y, test_size=0.3, random_state=42)\n",
    "scaler = StandardScaler()\n",
    "X_train_scaled, X_test_scaled = scaler.fit_transform(X_train), scaler.transform(X_test)\n",
    "X_train_scaled, X_test_scaled, y_train, y_test"
   ]
  },
  {
   "cell_type": "code",
   "execution_count": 21,
   "metadata": {},
   "outputs": [
    {
     "name": "stdout",
     "output_type": "stream",
     "text": [
      "accuracy: 0.9926666666666667\n",
      "              precision    recall  f1-score   support\n",
      "\n",
      "           0       0.00      0.00      0.00         0\n",
      "           1       1.00      0.99      1.00      1500\n",
      "\n",
      "    accuracy                           0.99      1500\n",
      "   macro avg       0.50      0.50      0.50      1500\n",
      "weighted avg       1.00      0.99      1.00      1500\n",
      "\n",
      "[[   0    0]\n",
      " [  11 1489]]\n"
     ]
    },
    {
     "name": "stderr",
     "output_type": "stream",
     "text": [
      "c:\\Users\\bvkir\\OneDrive\\Desktop\\Machine learning\\mlenv\\Lib\\site-packages\\sklearn\\metrics\\_classification.py:1565: UndefinedMetricWarning: Recall is ill-defined and being set to 0.0 in labels with no true samples. Use `zero_division` parameter to control this behavior.\n",
      "  _warn_prf(average, modifier, f\"{metric.capitalize()} is\", len(result))\n",
      "c:\\Users\\bvkir\\OneDrive\\Desktop\\Machine learning\\mlenv\\Lib\\site-packages\\sklearn\\metrics\\_classification.py:1565: UndefinedMetricWarning: Recall is ill-defined and being set to 0.0 in labels with no true samples. Use `zero_division` parameter to control this behavior.\n",
      "  _warn_prf(average, modifier, f\"{metric.capitalize()} is\", len(result))\n",
      "c:\\Users\\bvkir\\OneDrive\\Desktop\\Machine learning\\mlenv\\Lib\\site-packages\\sklearn\\metrics\\_classification.py:1565: UndefinedMetricWarning: Recall is ill-defined and being set to 0.0 in labels with no true samples. Use `zero_division` parameter to control this behavior.\n",
      "  _warn_prf(average, modifier, f\"{metric.capitalize()} is\", len(result))\n"
     ]
    }
   ],
   "source": [
    "from sklearn.linear_model import LogisticRegression\n",
    "from sklearn.metrics import accuracy_score,classification_report,confusion_matrix\n",
    "logiregressor = LogisticRegression()\n",
    "logiregressor.fit(X_train_scaled, y_train)\n",
    "y_pred=logiregressor.predict(X_test)\n",
    "print(f'accuracy: {accuracy_score(y_pred,y_test)}')\n",
    "print(classification_report(y_pred,y_test))\n",
    "print(confusion_matrix(y_pred,y_test))"
   ]
  },
  {
   "cell_type": "code",
   "execution_count": null,
   "metadata": {},
   "outputs": [],
   "source": []
  }
 ],
 "metadata": {
  "kernelspec": {
   "display_name": "mlenv",
   "language": "python",
   "name": "python3"
  },
  "language_info": {
   "codemirror_mode": {
    "name": "ipython",
    "version": 3
   },
   "file_extension": ".py",
   "mimetype": "text/x-python",
   "name": "python",
   "nbconvert_exporter": "python",
   "pygments_lexer": "ipython3",
   "version": "3.12.3"
  }
 },
 "nbformat": 4,
 "nbformat_minor": 2
}
